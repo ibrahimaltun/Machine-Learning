{
 "cells": [
  {
   "cell_type": "markdown",
   "metadata": {},
   "source": [
    "## Rastgele Yürüyüş (Random Walk)\n",
    "\n",
    "- Tek bir atış : Raastgele sayı\n",
    "- Yüz atış : Rastgele yürüyüş"
   ]
  },
  {
   "cell_type": "code",
   "execution_count": 18,
   "metadata": {},
   "outputs": [],
   "source": [
    "import numpy as np\n",
    "np.random.seed(123)\n",
    "liste = [] # yazı ve turayı yazdırmak için boş liste\n",
    "\n",
    "for x in range(10):\n",
    "    para = np.random.randint(0,2)\n",
    "    \n",
    "    if para == 0:\n",
    "        liste.append('Tura') #Listeye append komutu ile ekleme işleme\n",
    "    else:\n",
    "        liste.append('Yazı')"
   ]
  },
  {
   "cell_type": "code",
   "execution_count": 19,
   "metadata": {},
   "outputs": [
    {
     "name": "stdout",
     "output_type": "stream",
     "text": [
      "['Tura', 'Yazı', 'Tura', 'Tura', 'Tura', 'Tura', 'Tura', 'Yazı', 'Yazı', 'Tura']\n"
     ]
    }
   ],
   "source": [
    "print(liste)"
   ]
  },
  {
   "cell_type": "code",
   "execution_count": 22,
   "metadata": {},
   "outputs": [],
   "source": [
    "liste2 = [0]\n",
    "\n",
    "for y in range(10):\n",
    "    \n",
    "    para = np.random.randint(0,2)\n",
    "    liste2.append(liste2[y] + para) #bir önceki değerlere yeni değerleri ekleme"
   ]
  },
  {
   "cell_type": "code",
   "execution_count": 23,
   "metadata": {},
   "outputs": [
    {
     "name": "stdout",
     "output_type": "stream",
     "text": [
      "[0, 0, 0, 1, 2, 3, 3, 4, 4, 4, 4]\n"
     ]
    }
   ],
   "source": [
    "print(liste2)"
   ]
  },
  {
   "cell_type": "code",
   "execution_count": 28,
   "metadata": {},
   "outputs": [],
   "source": [
    "# Zar atma ve rastgele yürüyüş\n",
    "\n",
    "atılanzar = [0]\n",
    "\n",
    "for a in range(100):\n",
    "    seviye = atılanzar[-1]\n",
    "    zar = np.random.randint(1,7)\n",
    "    \n",
    "    if zar <= 2:\n",
    "        seviye = max(0, seviye - 1) #inilebilecek en yüksek seviye belirlendi\n",
    "    elif zar < 6:\n",
    "        seviye += 1\n",
    "    else:\n",
    "        seviye += np.random.randint(1,7)\n",
    "    \n",
    "    atılanzar.append(seviye)"
   ]
  },
  {
   "cell_type": "code",
   "execution_count": 29,
   "metadata": {},
   "outputs": [
    {
     "name": "stdout",
     "output_type": "stream",
     "text": [
      "[0, 1, 2, 1, 3, 4, 5, 6, 7, 8, 9, 8, 9, 10, 15, 16, 15, 14, 13, 12, 13, 14, 15, 20, 21, 20, 21, 22, 23, 24, 25, 26, 25, 24, 25, 24, 30, 29, 30, 29, 30, 29, 30, 34, 38, 40, 42, 41, 42, 44, 43, 49, 50, 52, 53, 52, 53, 54, 55, 54, 55, 56, 57, 59, 58, 57, 58, 64, 69, 68, 67, 71, 72, 73, 74, 76, 75, 76, 75, 76, 75, 74, 80, 79, 80, 81, 82, 83, 84, 85, 86, 87, 86, 87, 86, 85, 86, 85, 86, 85, 86]\n"
     ]
    }
   ],
   "source": [
    "print(atılanzar)"
   ]
  },
  {
   "cell_type": "code",
   "execution_count": 16,
   "metadata": {},
   "outputs": [],
   "source": [
    "# Rastgele yürüyüşün görüntülenmesi/grafiklendirilmesi"
   ]
  },
  {
   "cell_type": "code",
   "execution_count": 17,
   "metadata": {},
   "outputs": [
    {
     "data": {
      "image/png": "[encoded data removed]",
      "text/plain": [
       "<Figure size 432x288 with 1 Axes>"
      ]
     },
     "metadata": {
      "needs_background": "light"
     },
     "output_type": "display_data"
    }
   ],
   "source": [
    "import matplotlib.pyplot as plt\n",
    "plt.plot(atılanzar)\n",
    "plt.show()"
   ]
  }
 ],
 "metadata": {
  "kernelspec": {
   "display_name": "Python 3",
   "language": "python",
   "name": "python3"
  },
  "language_info": {
   "codemirror_mode": {
    "name": "ipython",
    "version": 3
   },
   "file_extension": ".py",
   "mimetype": "text/x-python",
   "name": "python",
   "nbconvert_exporter": "python",
   "pygments_lexer": "ipython3",
   "version": "3.8.3"
  }
 },
 "nbformat": 4,
 "nbformat_minor": 4
}
