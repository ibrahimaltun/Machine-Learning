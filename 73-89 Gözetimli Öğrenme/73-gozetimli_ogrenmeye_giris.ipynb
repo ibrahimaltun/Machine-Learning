{
 "cells": [
  {
   "cell_type": "markdown",
   "metadata": {},
   "source": [
    "# 73. Gözetimli Öğrenmeye Giriş\n",
    "\n",
    "Makine Öğrenmesinin en önemli alanlarından birisidir.\n",
    "\n",
    "<b> Makine Öğrenmesi </b>\n",
    "\n",
    "Bilgisayarlara verilere dayanarak öğrenme yetisinin verilmesidir.\n",
    "\n",
    "    - Bir e-posta verisinin spam olup olmadığını anlama\n",
    "    - Metin verilerini kategorize etme\n",
    "    - Gözetimli öğrenmede sınıflandırılmış veri(labeled data) kullanılır.\n",
    "\n",
    "<b>Kavramlar</b>\n",
    "\n",
    "    - Features = Predictor Variables = Independent Variables\n",
    "    - Target Variable = Dependent Variable = Response Vaariable\n",
    "\n",
    "<b>Kullanımı</b>\n",
    "\n",
    "    - Zaman alıcı veya masralı işlemleri otomasyona bağlamak\n",
    "    - Gelecek hakkında tahminde bulunma\n",
    "    \n",
    "<b>İhtiyaç Duyulan Veriler</b>\n",
    "\n",
    "    - Hedef değişkeni (target variables) tanımlanmış olan veri seti\n",
    "    - Hedef değişkeni tahmin etmek için veri seti\n",
    "    \n",
    "<b>Yöntem</b>\n",
    "    \n",
    "    - scikit-learn/sklearn\n",
    "        - SciPy stack ile entegre\n",
    "    - TensorFlow\n",
    "    - Keras"
   ]
  }
 ],
 "metadata": {
  "kernelspec": {
   "display_name": "Python 3",
   "language": "python",
   "name": "python3"
  },
  "language_info": {
   "codemirror_mode": {
    "name": "ipython",
    "version": 3
   },
   "file_extension": ".py",
   "mimetype": "text/x-python",
   "name": "python",
   "nbconvert_exporter": "python",
   "pygments_lexer": "ipython3",
   "version": "3.8.3"
  }
 },
 "nbformat": 4,
 "nbformat_minor": 4
}
