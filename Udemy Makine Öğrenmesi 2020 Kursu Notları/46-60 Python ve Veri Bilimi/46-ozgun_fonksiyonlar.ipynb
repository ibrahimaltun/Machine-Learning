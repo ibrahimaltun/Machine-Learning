{
 "cells": [
  {
   "cell_type": "markdown",
   "metadata": {},
   "source": [
    "# 46. Özgün Fonksiyonlar"
   ]
  },
  {
   "cell_type": "code",
   "execution_count": 1,
   "metadata": {},
   "outputs": [
    {
     "name": "stdout",
     "output_type": "stream",
     "text": [
      "5\n",
      "<class 'int'>\n"
     ]
    }
   ],
   "source": [
    "#Ön Tanımlı Fonksiyonlar\n",
    "x = 5\n",
    "print(x)\n",
    "print(type(x))"
   ]
  },
  {
   "cell_type": "code",
   "execution_count": 2,
   "metadata": {},
   "outputs": [],
   "source": [
    "# Özgün Fonksiyonlar (User Defined Functions)\n",
    "\n",
    "def kare(): # fonksiyon girişi\n",
    "    yeni_sayi = 4 ** 2 # function body\n",
    "    print(yeni_sayi)"
   ]
  },
  {
   "cell_type": "code",
   "execution_count": 3,
   "metadata": {},
   "outputs": [
    {
     "name": "stdout",
     "output_type": "stream",
     "text": [
      "16\n"
     ]
    }
   ],
   "source": [
    "kare()"
   ]
  },
  {
   "cell_type": "code",
   "execution_count": 4,
   "metadata": {},
   "outputs": [],
   "source": [
    "def kare(sayi):\n",
    "    yeni_sayi = sayi ** 2\n",
    "    print(yeni_sayi)"
   ]
  },
  {
   "cell_type": "code",
   "execution_count": 6,
   "metadata": {},
   "outputs": [
    {
     "name": "stdout",
     "output_type": "stream",
     "text": [
      "25\n",
      "49\n",
      "1\n",
      "81\n"
     ]
    }
   ],
   "source": [
    "kare(5)\n",
    "kare(7)\n",
    "kare(1)\n",
    "kare(9)"
   ]
  },
  {
   "cell_type": "code",
   "execution_count": 10,
   "metadata": {},
   "outputs": [
    {
     "name": "stdout",
     "output_type": "stream",
     "text": [
      "81\n"
     ]
    }
   ],
   "source": [
    "def kare(sayi):\n",
    "    \"\"\" Dışarıdan girilen 'sayi' değişkeninin karesini alan fonksiyon. \"\"\"\n",
    "    yeni_sayi = sayi ** 2\n",
    "    return yeni_sayi \n",
    "\n",
    "sayi2 = kare(9)\n",
    "print(sayi2)"
   ]
  },
  {
   "cell_type": "code",
   "execution_count": 7,
   "metadata": {},
   "outputs": [],
   "source": [
    "#karenin çevresi : herhangi bir kenar uzunluğu*4\n",
    "#karenin alanı : bir kenar uzunluğunun karesidir.\n",
    "\n",
    "def kare_cevre_alan(kenar_uzun):\n",
    "    alan = kenar_uzun ** 2\n",
    "    cevre = kenar_uzun * 4\n",
    "    \n",
    "    print(\"Karenin Çevresi : \", cevre, \"\\nKarenin Alanı   : \", alan)"
   ]
  },
  {
   "cell_type": "code",
   "execution_count": 9,
   "metadata": {},
   "outputs": [
    {
     "name": "stdout",
     "output_type": "stream",
     "text": [
      "Karenin Çevresi :  28 \n",
      "Karenin Alanı   :  49\n"
     ]
    }
   ],
   "source": [
    "kare_cevre_alan(7)"
   ]
  },
  {
   "cell_type": "code",
   "execution_count": null,
   "metadata": {},
   "outputs": [],
   "source": []
  }
 ],
 "metadata": {
  "kernelspec": {
   "display_name": "Python 3",
   "language": "python",
   "name": "python3"
  },
  "language_info": {
   "codemirror_mode": {
    "name": "ipython",
    "version": 3
   },
   "file_extension": ".py",
   "mimetype": "text/x-python",
   "name": "python",
   "nbconvert_exporter": "python",
   "pygments_lexer": "ipython3",
   "version": "3.8.3"
  }
 },
 "nbformat": 4,
 "nbformat_minor": 4
}
