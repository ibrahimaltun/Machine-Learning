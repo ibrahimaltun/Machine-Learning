{
 "cells": [
  {
   "cell_type": "markdown",
   "metadata": {},
   "source": [
    "# Lambda Fonksiyonları\n",
    "\n",
    "Lambda fonksiyonları herhnagi bir isim tanımlaması yapılmadan kullanılan anonim\n",
    "fonksiyonlardır. Normal şartlarda bir fonksiyon yazmak için 'def' kullanılırken anonim fonksiyonlar için 'lambda' kullanılır.\n",
    "\n",
    "### Lambda Fonksiyonlarının Kullanımı\n",
    "\n",
    "- lambda argument(s) : expression\n",
    "- lambda parametre(ler) : yapılacak işlem"
   ]
  },
  {
   "cell_type": "code",
   "execution_count": 4,
   "metadata": {},
   "outputs": [
    {
     "data": {
      "text/plain": [
       "(12, 27)"
      ]
     },
     "execution_count": 4,
     "metadata": {},
     "output_type": "execute_result"
    }
   ],
   "source": [
    "#fonksiyon_adi = lambda disaridan_girilecek_degiskenler : fonksiyonun yapacağı işlemler\n",
    "iki_kat = lambda x: x*3\n",
    "iki_kat(4), iki_kat(9)"
   ]
  },
  {
   "cell_type": "code",
   "execution_count": 10,
   "metadata": {},
   "outputs": [
    {
     "data": {
      "text/plain": [
       "(27, 32, 64)"
      ]
     },
     "execution_count": 10,
     "metadata": {},
     "output_type": "execute_result"
    }
   ],
   "source": [
    "üs_alma = lambda x,y : x**y\n",
    "üs_alma(3,3), üs_alma(2,5), üs_alma(8,2)"
   ]
  },
  {
   "cell_type": "code",
   "execution_count": 11,
   "metadata": {},
   "outputs": [],
   "source": [
    "liste = [3, 4, 7, 12, 14, 18, 25, 35, 39]\n",
    "\n",
    "ucten_kalan = list(filter(lambda sayi: (sayi%3 == 0), liste))"
   ]
  },
  {
   "cell_type": "code",
   "execution_count": 12,
   "metadata": {},
   "outputs": [
    {
     "data": {
      "text/plain": [
       "[3, 12, 18, 39]"
      ]
     },
     "execution_count": 12,
     "metadata": {},
     "output_type": "execute_result"
    }
   ],
   "source": [
    "ucten_kalan"
   ]
  },
  {
   "cell_type": "code",
   "execution_count": 13,
   "metadata": {},
   "outputs": [],
   "source": [
    "uc_ussu = map(lambda sayi : sayi ** 3, liste)"
   ]
  },
  {
   "cell_type": "code",
   "execution_count": 17,
   "metadata": {},
   "outputs": [
    {
     "data": {
      "text/plain": [
       "<map at 0x137537b3430>"
      ]
     },
     "execution_count": 17,
     "metadata": {},
     "output_type": "execute_result"
    }
   ],
   "source": [
    "uc_ussu"
   ]
  },
  {
   "cell_type": "code",
   "execution_count": 18,
   "metadata": {},
   "outputs": [
    {
     "data": {
      "text/plain": [
       "[27, 64, 343, 1728, 2744, 5832, 15625, 42875, 59319]"
      ]
     },
     "execution_count": 18,
     "metadata": {},
     "output_type": "execute_result"
    }
   ],
   "source": [
    "list(uc_ussu)"
   ]
  }
 ],
 "metadata": {
  "kernelspec": {
   "display_name": "Python 3",
   "language": "python",
   "name": "python3"
  },
  "language_info": {
   "codemirror_mode": {
    "name": "ipython",
    "version": 3
   },
   "file_extension": ".py",
   "mimetype": "text/x-python",
   "name": "python",
   "nbconvert_exporter": "python",
   "pygments_lexer": "ipython3",
   "version": "3.8.3"
  }
 },
 "nbformat": 4,
 "nbformat_minor": 4
}
