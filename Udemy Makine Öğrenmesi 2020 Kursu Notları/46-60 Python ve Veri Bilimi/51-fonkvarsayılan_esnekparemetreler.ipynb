{
 "cells": [
  {
   "cell_type": "markdown",
   "metadata": {},
   "source": [
    "## Fonksiyonlarda Varsayılan ve Esnek Parametreler\n",
    "\n",
    "- Varsayılan parametre(ler) ile fonksiyon yazmak\n",
    "- Esnek parametre(ler) ile fonksiyon yazmak."
   ]
  },
  {
   "cell_type": "code",
   "execution_count": 8,
   "metadata": {},
   "outputs": [],
   "source": [
    "def usalma(s1, s2): #function header\n",
    "    \"Üs alma işlemi\"\n",
    "    ans = s1 ** s2\n",
    "    return ans"
   ]
  },
  {
   "cell_type": "code",
   "execution_count": 9,
   "metadata": {},
   "outputs": [
    {
     "data": {
      "text/plain": [
       "32"
      ]
     },
     "execution_count": 9,
     "metadata": {},
     "output_type": "execute_result"
    }
   ],
   "source": [
    "usalma(2,5)"
   ]
  },
  {
   "cell_type": "code",
   "execution_count": 23,
   "metadata": {},
   "outputs": [],
   "source": [
    "# Varsayılan Parametreler\n",
    "\n",
    "def usalma2(s, pow = 3): # pow = power(üs) // varsayılan parametre\n",
    "    ys = s ** pow\n",
    "    return ys"
   ]
  },
  {
   "cell_type": "code",
   "execution_count": 24,
   "metadata": {},
   "outputs": [
    {
     "data": {
      "text/plain": [
       "125"
      ]
     },
     "execution_count": 24,
     "metadata": {},
     "output_type": "execute_result"
    }
   ],
   "source": [
    "usalma2(5)"
   ]
  },
  {
   "cell_type": "code",
   "execution_count": 25,
   "metadata": {},
   "outputs": [],
   "source": [
    "#Esnek parametreler (args ve kvargs)\n",
    "# *args"
   ]
  },
  {
   "cell_type": "code",
   "execution_count": 39,
   "metadata": {},
   "outputs": [],
   "source": [
    "def toplama(*args):\n",
    "    \"Verilen sayıları topla\"\n",
    "    toplam = 0\n",
    "    for sayi in args:\n",
    "        toplam += sayi  # toplam = toplam + sayi\n",
    "    return toplam"
   ]
  },
  {
   "cell_type": "code",
   "execution_count": 40,
   "metadata": {},
   "outputs": [
    {
     "data": {
      "text/plain": [
       "3"
      ]
     },
     "execution_count": 40,
     "metadata": {},
     "output_type": "execute_result"
    }
   ],
   "source": [
    "toplama(1,2)"
   ]
  },
  {
   "cell_type": "code",
   "execution_count": 41,
   "metadata": {},
   "outputs": [
    {
     "data": {
      "text/plain": [
       "72"
      ]
     },
     "execution_count": 41,
     "metadata": {},
     "output_type": "execute_result"
    }
   ],
   "source": [
    "toplama(2,5,7,9,8,7,5,6,4,5,2,3,9)"
   ]
  },
  {
   "cell_type": "code",
   "execution_count": 31,
   "metadata": {},
   "outputs": [],
   "source": [
    "# **kvargs"
   ]
  },
  {
   "cell_type": "code",
   "execution_count": 42,
   "metadata": {},
   "outputs": [],
   "source": [
    "def yazdir(**kvargs):\n",
    "    \"verilenleri yazdiran fonk\"\n",
    "    \n",
    "    for key,value in kvargs.items():\n",
    "        print(key,\" \",value)"
   ]
  },
  {
   "cell_type": "code",
   "execution_count": 33,
   "metadata": {},
   "outputs": [
    {
     "name": "stdout",
     "output_type": "stream",
     "text": [
      "adi   ayse\n",
      "soyadi   keskin\n"
     ]
    }
   ],
   "source": [
    "yazdir(adi = 'ayse', soyadi = 'keskin')"
   ]
  },
  {
   "cell_type": "code",
   "execution_count": 34,
   "metadata": {},
   "outputs": [
    {
     "name": "stdout",
     "output_type": "stream",
     "text": [
      "adi   ayse\n",
      "soyadi   keskin\n",
      "adi1   ahmet\n",
      "soy   alfa\n",
      "ad   cengo\n",
      "soyis   beta\n"
     ]
    }
   ],
   "source": [
    "yazdir(adi = 'ayse', soyadi = 'keskin',\n",
    "       adi1 = 'ahmet', soy = 'alfa',\n",
    "      ad = 'cengo', soyis = 'beta')"
   ]
  }
 ],
 "metadata": {
  "kernelspec": {
   "display_name": "Python 3",
   "language": "python",
   "name": "python3"
  },
  "language_info": {
   "codemirror_mode": {
    "name": "ipython",
    "version": 3
   },
   "file_extension": ".py",
   "mimetype": "text/x-python",
   "name": "python",
   "nbconvert_exporter": "python",
   "pygments_lexer": "ipython3",
   "version": "3.8.3"
  }
 },
 "nbformat": 4,
 "nbformat_minor": 4
}
