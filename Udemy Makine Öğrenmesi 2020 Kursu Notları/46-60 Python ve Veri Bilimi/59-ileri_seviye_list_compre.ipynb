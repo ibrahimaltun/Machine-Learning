{
 "cells": [
  {
   "cell_type": "markdown",
   "metadata": {},
   "source": [
    "# 59. İleri Seviye List Comprehensions "
   ]
  },
  {
   "cell_type": "code",
   "execution_count": 3,
   "metadata": {},
   "outputs": [
    {
     "name": "stdout",
     "output_type": "stream",
     "text": [
      "[1, 4, 9, 16, 25, 36, 49, 64, 81, 100, 121, 144, 169, 196, 225, 256, 289, 324, 361, 400, 441, 484, 529, 576, 625, 676, 729, 784, 841, 900, 961, 1024, 1089, 1156, 1225, 1296, 1369, 1444, 1521, 1600, 1681, 1764, 1849, 1936, 2025, 2116, 2209, 2304, 2401, 2500]\n"
     ]
    }
   ],
   "source": [
    "# if, elif, else\n",
    "\n",
    "liste = [sayi ** 2 for sayi in range(1,51)]\n",
    "print(liste)"
   ]
  },
  {
   "cell_type": "code",
   "execution_count": 4,
   "metadata": {},
   "outputs": [
    {
     "name": "stdout",
     "output_type": "stream",
     "text": [
      "[4, 16, 36, 64, 100, 144, 196, 256, 324, 400, 484, 576, 676, 784, 900, 1024, 1156, 1296, 1444, 1600, 1764, 1936, 2116, 2304, 2500]\n"
     ]
    }
   ],
   "source": [
    "liste2 = [sayi ** 2 for sayi in range(1,51) if sayi % 2 == 0]\n",
    "print(liste2)"
   ]
  },
  {
   "cell_type": "code",
   "execution_count": 8,
   "metadata": {},
   "outputs": [
    {
     "name": "stdout",
     "output_type": "stream",
     "text": [
      "['1 tam bölünmüyor', 4, '3 tam bölünmüyor', 16, '5 tam bölünmüyor', 36, '7 tam bölünmüyor', 64, '9 tam bölünmüyor', 100, '11 tam bölünmüyor', 144, '13 tam bölünmüyor', 196, '15 tam bölünmüyor', 256, '17 tam bölünmüyor', 324, '19 tam bölünmüyor', 400, '21 tam bölünmüyor', 484, '23 tam bölünmüyor', 576, '25 tam bölünmüyor', 676, '27 tam bölünmüyor', 784, '29 tam bölünmüyor', 900, '31 tam bölünmüyor', 1024, '33 tam bölünmüyor', 1156, '35 tam bölünmüyor', 1296, '37 tam bölünmüyor', 1444, '39 tam bölünmüyor', 1600, '41 tam bölünmüyor', 1764, '43 tam bölünmüyor', 1936, '45 tam bölünmüyor', 2116, '47 tam bölünmüyor', 2304, '49 tam bölünmüyor', 2500]\n"
     ]
    }
   ],
   "source": [
    "liste3 = [sayi ** 2 if sayi %2 == 0 else str(sayi) + ' tam bölünmüyor' for sayi in range(1,51)]\n",
    "\n",
    "print(liste3)"
   ]
  },
  {
   "cell_type": "code",
   "execution_count": 9,
   "metadata": {},
   "outputs": [
    {
     "name": "stdout",
     "output_type": "stream",
     "text": [
      "{1: 1, 2: 4, 3: 9, 4: 16, 5: 25, 6: 36, 7: 49, 8: 64, 9: 81, 10: 100}\n"
     ]
    }
   ],
   "source": [
    "# Dict\n",
    "# [] yerine {}\n",
    "\n",
    "liste4 = {sayi: sayi**2 for sayi in range(1,11)}\n",
    "print(liste4)"
   ]
  },
  {
   "cell_type": "code",
   "execution_count": 10,
   "metadata": {},
   "outputs": [
    {
     "data": {
      "text/plain": [
       "dict"
      ]
     },
     "execution_count": 10,
     "metadata": {},
     "output_type": "execute_result"
    }
   ],
   "source": [
    "type(liste4)"
   ]
  }
 ],
 "metadata": {
  "kernelspec": {
   "display_name": "Python 3",
   "language": "python",
   "name": "python3"
  },
  "language_info": {
   "codemirror_mode": {
    "name": "ipython",
    "version": 3
   },
   "file_extension": ".py",
   "mimetype": "text/x-python",
   "name": "python",
   "nbconvert_exporter": "python",
   "pygments_lexer": "ipython3",
   "version": "3.8.3"
  }
 },
 "nbformat": 4,
 "nbformat_minor": 4
}
