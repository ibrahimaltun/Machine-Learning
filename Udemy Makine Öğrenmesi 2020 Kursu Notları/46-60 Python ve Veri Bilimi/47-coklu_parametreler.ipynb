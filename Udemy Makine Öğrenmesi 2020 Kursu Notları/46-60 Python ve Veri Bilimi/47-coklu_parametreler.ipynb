{
 "cells": [
  {
   "cell_type": "markdown",
   "metadata": {},
   "source": [
    "# 47. Çoklu Parametreler ve Değerler"
   ]
  },
  {
   "cell_type": "code",
   "execution_count": 5,
   "metadata": {},
   "outputs": [
    {
     "name": "stdout",
     "output_type": "stream",
     "text": [
      "343\n"
     ]
    }
   ],
   "source": [
    "def üs(sayi1, sayi2):\n",
    "    \"\"\"Dışarıdan girilen taban = 'sayi1' ve üs = 'sayi2' \n",
    "    değişkenleri ile üs alma işleminin gerçekleştirilmesi\"\"\"\n",
    "    sayi3 = sayi1 ** sayi2\n",
    "    return sayi3 \n",
    "#return, değişken sonucunu başka bir değişkene atamak için kullanılır\n",
    "\n",
    "# üs(taban değeri, üs değeri)\n",
    "\n",
    "sonuc = üs(7,3) # 1. argument: 7,  2. argument: 2\n",
    "print(sonuc)"
   ]
  },
  {
   "cell_type": "markdown",
   "metadata": {},
   "source": [
    "### Demetler (Tuples)\n",
    "- \"Return\" değerlerinden oluşturulan liste.\n",
    "- Değerler değiştirilemez.\n",
    "- () kullanılarak oluşturulur."
   ]
  },
  {
   "cell_type": "code",
   "execution_count": 6,
   "metadata": {},
   "outputs": [
    {
     "data": {
      "text/plain": [
       "tuple"
      ]
     },
     "execution_count": 6,
     "metadata": {},
     "output_type": "execute_result"
    }
   ],
   "source": [
    "rakam = (1,2,3)\n",
    "type(rakam)"
   ]
  },
  {
   "cell_type": "code",
   "execution_count": 7,
   "metadata": {},
   "outputs": [],
   "source": [
    "x,y,z = rakam"
   ]
  },
  {
   "cell_type": "code",
   "execution_count": 8,
   "metadata": {},
   "outputs": [
    {
     "name": "stdout",
     "output_type": "stream",
     "text": [
      "1 2 3\n"
     ]
    }
   ],
   "source": [
    "print(x,y,z)"
   ]
  },
  {
   "cell_type": "code",
   "execution_count": 9,
   "metadata": {},
   "outputs": [],
   "source": [
    "sayilar = (15, 26, 59, 85)\n",
    "a, b, c, d = sayilar"
   ]
  },
  {
   "cell_type": "code",
   "execution_count": 10,
   "metadata": {},
   "outputs": [
    {
     "name": "stdout",
     "output_type": "stream",
     "text": [
      "15 26 59 85\n"
     ]
    }
   ],
   "source": [
    "print(a,b,c,d)"
   ]
  },
  {
   "cell_type": "code",
   "execution_count": 11,
   "metadata": {},
   "outputs": [
    {
     "data": {
      "text/plain": [
       "85"
      ]
     },
     "execution_count": 11,
     "metadata": {},
     "output_type": "execute_result"
    }
   ],
   "source": [
    "sayilar[3]"
   ]
  },
  {
   "cell_type": "code",
   "execution_count": 12,
   "metadata": {},
   "outputs": [
    {
     "data": {
      "text/plain": [
       "1"
      ]
     },
     "execution_count": 12,
     "metadata": {},
     "output_type": "execute_result"
    }
   ],
   "source": [
    "rakam[0]"
   ]
  },
  {
   "cell_type": "code",
   "execution_count": 13,
   "metadata": {},
   "outputs": [],
   "source": [
    "def üs2(sayi1, sayi2):\n",
    "    \"\"\" üs alma ve sayi1 sayi2 değişimi ile tekrar üs alma\"\"\"\n",
    "\n",
    "    sayi4 = sayi1 ** sayi2\n",
    "    sayi5 = sayi2 ** sayi1\n",
    "    \n",
    "    demet = (sayi4, sayi5)\n",
    "    \n",
    "    return demet\n",
    "\n"
   ]
  },
  {
   "cell_type": "code",
   "execution_count": 21,
   "metadata": {},
   "outputs": [
    {
     "name": "stdout",
     "output_type": "stream",
     "text": [
      "(5^2, 2^5) == (25, 32)\n"
     ]
    }
   ],
   "source": [
    "sonuclar = üs2(5,2)\n",
    "print(\"(5^2, 2^5) ==\",sonuclar)"
   ]
  },
  {
   "cell_type": "code",
   "execution_count": 25,
   "metadata": {},
   "outputs": [
    {
     "name": "stdout",
     "output_type": "stream",
     "text": [
      "2^8= 256 ------- 8^2= 64\n"
     ]
    }
   ],
   "source": [
    "sonuclar = üs2(2,8)\n",
    "print(\"2^8=\",sonuclar[0],\"-------\",\"8^2=\",sonuclar[1])"
   ]
  },
  {
   "cell_type": "code",
   "execution_count": 15,
   "metadata": {},
   "outputs": [],
   "source": [
    "def nothesapla(vize, final):\n",
    "    sonuc = vize*0.4 + final*0.6\n",
    "    sonuc2 = vize*0.3 + final*0.7\n",
    "    sonuclar = (sonuc, sonuc2)\n",
    "    return sonuclar"
   ]
  },
  {
   "cell_type": "code",
   "execution_count": 38,
   "metadata": {},
   "outputs": [
    {
     "name": "stdout",
     "output_type": "stream",
     "text": [
      "Örnek okul 1 Ortalama :  67.8 <------> Örnek okul 2 Ortalama:  72.1\n"
     ]
    }
   ],
   "source": [
    "ortalama = nothesapla(42, 85)\n",
    "print(\"Örnek okul 1 Ortalama : \",ortalama[0],\"<------>\",\"Örnek okul 2 Ortalama: \",ortalama[1])"
   ]
  },
  {
   "cell_type": "code",
   "execution_count": 39,
   "metadata": {},
   "outputs": [],
   "source": [
    "def cevre(r):\n",
    "    pi = 3.14\n",
    "    cevre = pi * r**2\n",
    "    alan = 2*pi*r\n",
    "    \n",
    "    her_ikisi = (cevre, alan)\n",
    "    return her_ikisi    "
   ]
  },
  {
   "cell_type": "code",
   "execution_count": 40,
   "metadata": {},
   "outputs": [
    {
     "name": "stdout",
     "output_type": "stream",
     "text": [
      "(cevre, alan) == (78.5, 31.400000000000002)\n"
     ]
    }
   ],
   "source": [
    "ans = cevre(5)\n",
    "print(\"(cevre, alan) ==\",ans)"
   ]
  },
  {
   "cell_type": "code",
   "execution_count": 41,
   "metadata": {},
   "outputs": [
    {
     "name": "stdout",
     "output_type": "stream",
     "text": [
      "Cevre =  200.96 \n",
      " Alan =  50.24\n"
     ]
    }
   ],
   "source": [
    "ans1 = cevre(8)\n",
    "print(\"Cevre = \", ans1[0],\"\\n\",\n",
    "      \"Alan = \" , ans1[1])"
   ]
  }
 ],
 "metadata": {
  "kernelspec": {
   "display_name": "Python 3",
   "language": "python",
   "name": "python3"
  },
  "language_info": {
   "codemirror_mode": {
    "name": "ipython",
    "version": 3
   },
   "file_extension": ".py",
   "mimetype": "text/x-python",
   "name": "python",
   "nbconvert_exporter": "python",
   "pygments_lexer": "ipython3",
   "version": "3.8.3"
  }
 },
 "nbformat": 4,
 "nbformat_minor": 4
}
