{
 "cells": [
  {
   "cell_type": "markdown",
   "metadata": {},
   "source": [
    "# 55. İteratörlere Giriş\n",
    "\n",
    "- iterable (üzerinde işlem yapılabilen)\n",
    "    - lists, strings, dicitonaries, etc.\n",
    "    - iter()\n",
    "        - iterable oluşturulur."
   ]
  },
  {
   "cell_type": "code",
   "execution_count": 3,
   "metadata": {},
   "outputs": [
    {
     "name": "stdout",
     "output_type": "stream",
     "text": [
      "aile\n",
      "ayse\n",
      "osman\n",
      "ayla\n"
     ]
    }
   ],
   "source": [
    "aile = ['aile', 'ayse', 'osman', 'ayla']\n",
    "\n",
    "for kisi in aile:\n",
    "    print(kisi)"
   ]
  },
  {
   "cell_type": "code",
   "execution_count": 4,
   "metadata": {},
   "outputs": [
    {
     "name": "stdout",
     "output_type": "stream",
     "text": [
      "T\n",
      "ü\n",
      "r\n",
      "k\n",
      "i\n",
      "y\n",
      "e\n"
     ]
    }
   ],
   "source": [
    "for harf in 'Türkiye':\n",
    "    print(harf)"
   ]
  },
  {
   "cell_type": "code",
   "execution_count": 18,
   "metadata": {},
   "outputs": [],
   "source": [
    "kelime = 'Türkiye'\n",
    "\n",
    "cikti = iter(kelime) #kelime üzerinde iterasyon yap"
   ]
  },
  {
   "cell_type": "code",
   "execution_count": 19,
   "metadata": {},
   "outputs": [
    {
     "data": {
      "text/plain": [
       "('T', 'ü', 'r', 'k', 'i', 'y', 'e')"
      ]
     },
     "execution_count": 19,
     "metadata": {},
     "output_type": "execute_result"
    }
   ],
   "source": [
    "next(cikti),next(cikti),next(cikti),next(cikti),next(cikti),next(cikti),next(cikti)"
   ]
  },
  {
   "cell_type": "code",
   "execution_count": 20,
   "metadata": {},
   "outputs": [],
   "source": [
    "kelime2 = 'İstanbul'\n",
    "cikti2 = iter(kelime2) "
   ]
  },
  {
   "cell_type": "code",
   "execution_count": 21,
   "metadata": {},
   "outputs": [
    {
     "name": "stdout",
     "output_type": "stream",
     "text": [
      "İ s t a n b u l\n"
     ]
    }
   ],
   "source": [
    "print(*cikti2)\n"
   ]
  },
  {
   "cell_type": "code",
   "execution_count": 23,
   "metadata": {},
   "outputs": [],
   "source": [
    "aile2 = {'Ayse' : 'özgür', 'Ali':'kemal'} # sözlük oluşturması, süslü parantez"
   ]
  },
  {
   "cell_type": "code",
   "execution_count": 24,
   "metadata": {},
   "outputs": [
    {
     "data": {
      "text/plain": [
       "dict"
      ]
     },
     "execution_count": 24,
     "metadata": {},
     "output_type": "execute_result"
    }
   ],
   "source": [
    "type(aile2)"
   ]
  },
  {
   "cell_type": "code",
   "execution_count": 26,
   "metadata": {},
   "outputs": [
    {
     "name": "stdout",
     "output_type": "stream",
     "text": [
      "Ayse özgür\n",
      "Ali kemal\n"
     ]
    }
   ],
   "source": [
    "for a,b in aile2.items():\n",
    "    print(a,b)"
   ]
  }
 ],
 "metadata": {
  "kernelspec": {
   "display_name": "Python 3",
   "language": "python",
   "name": "python3"
  },
  "language_info": {
   "codemirror_mode": {
    "name": "ipython",
    "version": 3
   },
   "file_extension": ".py",
   "mimetype": "text/x-python",
   "name": "python",
   "nbconvert_exporter": "python",
   "pygments_lexer": "ipython3",
   "version": "3.8.3"
  }
 },
 "nbformat": 4,
 "nbformat_minor": 4
}
