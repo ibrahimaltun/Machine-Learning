{
 "cells": [
  {
   "cell_type": "markdown",
   "metadata": {},
   "source": [
    "# İteratörler ve Veri\n",
    "\n",
    "- Çok fazla veri var ne yapılabilir?\n",
    "- Tüm veriyi tek bir seferde çağırmak mantıklı bir yaklaşım mı?\n",
    "- Veriler parça parça çağrılabilir."
   ]
  },
  {
   "cell_type": "code",
   "execution_count": null,
   "metadata": {},
   "outputs": [],
   "source": [
    "# Pandas\n",
    "import pandas as pd\n",
    "\n",
    "toplam = {}\n",
    "\n",
    "for rakam in pd.read_csv('sayilar.csv', chunksize = 1000):\n",
    "    toplam.append(sum(rakam['sayi']))\n"
   ]
  },
  {
   "cell_type": "code",
   "execution_count": null,
   "metadata": {},
   "outputs": [],
   "source": [
    "print(toplam)\n",
    "toplam2 = sum(toplam)\n",
    "toplam2"
   ]
  },
  {
   "cell_type": "code",
   "execution_count": null,
   "metadata": {},
   "outputs": [],
   "source": [
    "total = 0\n",
    "\n",
    "for x in pd.read_csv('sayi.csv', chunksize = 1000):\n",
    "    total += sum(x['degerler'])\n",
    "print(total)"
   ]
  }
 ],
 "metadata": {
  "kernelspec": {
   "display_name": "Python 3",
   "language": "python",
   "name": "python3"
  },
  "language_info": {
   "codemirror_mode": {
    "name": "ipython",
    "version": 3
   },
   "file_extension": ".py",
   "mimetype": "text/x-python",
   "name": "python",
   "nbconvert_exporter": "python",
   "pygments_lexer": "ipython3",
   "version": "3.8.3"
  }
 },
 "nbformat": 4,
 "nbformat_minor": 4
}
