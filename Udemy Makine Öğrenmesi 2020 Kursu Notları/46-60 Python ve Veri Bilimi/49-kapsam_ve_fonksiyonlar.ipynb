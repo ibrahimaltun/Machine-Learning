{
 "cells": [
  {
   "cell_type": "markdown",
   "metadata": {},
   "source": [
    "# Kapsam ve Fonksiyonlar\n",
    "\n",
    "- Her obje, scriptin her yerinden ulaşılabilir olmayabilir.\n",
    "- Kapsam(Scope) : Objenin ulaşılabilirliği tanımlar. 3'e ayrılır;\n",
    "\n",
    "    - Global Scope : Ana kod bloğu içinde tanımlananlar.\n",
    "    - Local Scope : Fonksiyon içerisinde tanımlananlar.\n",
    "    - Built-in Scope : Ön tanımlı modüller."
   ]
  },
  {
   "cell_type": "code",
   "execution_count": 17,
   "metadata": {},
   "outputs": [],
   "source": [
    "yeni_sayi = 10 #Global scope\n",
    "\n",
    "def kareal(sayi):\n",
    "    \"\"\"Kullanıcı tarafından girilen sayının karesini alır.\"\"\"\n",
    "    \n",
    "    global yeni_sayi # Fonksiyon dışından erişmek için\n",
    "    yeni_sayi = sayi ** 2 #local scope\n",
    "    return yeni_sayi\n"
   ]
  },
  {
   "cell_type": "code",
   "execution_count": 18,
   "metadata": {},
   "outputs": [
    {
     "data": {
      "text/plain": [
       "16"
      ]
     },
     "execution_count": 18,
     "metadata": {},
     "output_type": "execute_result"
    }
   ],
   "source": [
    "kareal(4)"
   ]
  },
  {
   "cell_type": "code",
   "execution_count": 19,
   "metadata": {},
   "outputs": [
    {
     "data": {
      "text/plain": [
       "16"
      ]
     },
     "execution_count": 19,
     "metadata": {},
     "output_type": "execute_result"
    }
   ],
   "source": [
    "yeni_sayi"
   ]
  }
 ],
 "metadata": {
  "kernelspec": {
   "display_name": "Python 3",
   "language": "python",
   "name": "python3"
  },
  "language_info": {
   "codemirror_mode": {
    "name": "ipython",
    "version": 3
   },
   "file_extension": ".py",
   "mimetype": "text/x-python",
   "name": "python",
   "nbconvert_exporter": "python",
   "pygments_lexer": "ipython3",
   "version": "3.8.3"
  }
 },
 "nbformat": 4,
 "nbformat_minor": 4
}
