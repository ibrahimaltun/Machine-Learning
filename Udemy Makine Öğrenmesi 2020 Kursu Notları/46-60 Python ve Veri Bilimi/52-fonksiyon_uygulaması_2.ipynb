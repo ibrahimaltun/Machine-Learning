{
 "cells": [
  {
   "cell_type": "markdown",
   "metadata": {},
   "source": [
    "# Fonksiyon Uygulaması"
   ]
  },
  {
   "cell_type": "code",
   "execution_count": 1,
   "metadata": {},
   "outputs": [],
   "source": [
    "import pandas as pd\n",
    "tweetler = pd.read_csv('tweets.csv')"
   ]
  },
  {
   "cell_type": "code",
   "execution_count": 2,
   "metadata": {},
   "outputs": [],
   "source": [
    "def sayma(veriseti, sutun):\n",
    "    \n",
    "    sayma = {}\n",
    "    sutunlar = tweetler[sutun]\n",
    "    \n",
    "    for say in sutunlar:\n",
    "        if say in sayma.keys():\n",
    "            sayma[say] += 1\n",
    "        else:\n",
    "            sayma[say] = 1\n",
    "    return sayma"
   ]
  },
  {
   "cell_type": "code",
   "execution_count": 3,
   "metadata": {},
   "outputs": [
    {
     "data": {
      "text/plain": [
       "{'Virgin America': 504,\n",
       " 'United': 3822,\n",
       " 'Southwest': 2420,\n",
       " 'Delta': 2222,\n",
       " 'US Airways': 2913,\n",
       " 'American': 2759}"
      ]
     },
     "execution_count": 3,
     "metadata": {},
     "output_type": "execute_result"
    }
   ],
   "source": [
    "sayma(tweetler,'airline')"
   ]
  },
  {
   "cell_type": "markdown",
   "metadata": {},
   "source": [
    "# Varsayılan Parametre"
   ]
  },
  {
   "cell_type": "code",
   "execution_count": 4,
   "metadata": {},
   "outputs": [],
   "source": [
    "import pandas as pd\n",
    "tweetler2 = pd.read_csv('tweets.csv')\n",
    "\n",
    "def sayma2(veriler2, col_name = 'airline'): # col_name : varsayılan parametre\n",
    "    \n",
    "    say_dict = {}\n",
    "    \n",
    "    sutunlar_2 = tweetler2[col_name]\n",
    "    \n",
    "    for tweet2 in tweetler2:\n",
    "        if tweet2 in say_dict.keys():\n",
    "            say_dict[tweet2] += 1\n",
    "        else:\n",
    "            say_dict[tweet2] = 1\n",
    "\n",
    "    return say_dict"
   ]
  },
  {
   "cell_type": "code",
   "execution_count": 5,
   "metadata": {},
   "outputs": [],
   "source": [
    "cikti1 = sayma2(tweetler2, col_name = 'airline')"
   ]
  },
  {
   "cell_type": "code",
   "execution_count": 6,
   "metadata": {
    "scrolled": true
   },
   "outputs": [
    {
     "data": {
      "text/plain": [
       "{'tweet_id': 1,\n",
       " 'airline_sentiment': 1,\n",
       " 'airline_sentiment_confidence': 1,\n",
       " 'negativereason': 1,\n",
       " 'negativereason_confidence': 1,\n",
       " 'airline': 1,\n",
       " 'airline_sentiment_gold': 1,\n",
       " 'name': 1,\n",
       " 'negativereason_gold': 1,\n",
       " 'retweet_count': 1,\n",
       " 'text': 1,\n",
       " 'tweet_coord': 1,\n",
       " 'tweet_created': 1,\n",
       " 'tweet_location': 1,\n",
       " 'user_timezone': 1}"
      ]
     },
     "execution_count": 6,
     "metadata": {},
     "output_type": "execute_result"
    }
   ],
   "source": [
    "cikti1"
   ]
  },
  {
   "cell_type": "markdown",
   "metadata": {},
   "source": [
    "# Esnek Parametre"
   ]
  },
  {
   "cell_type": "code",
   "execution_count": 7,
   "metadata": {},
   "outputs": [],
   "source": [
    "\n",
    "import pandas as pd\n",
    "tweetler3 = pd.read_csv('tweets.csv')"
   ]
  },
  {
   "cell_type": "code",
   "execution_count": 8,
   "metadata": {},
   "outputs": [],
   "source": [
    "def sayma3(veriler3, *args):\n",
    "    \n",
    "    dil3 = {} # Boş sözlük oluşturuyoruz\n",
    "    #istenilen sütun üzerinde iterasyon yapmak\n",
    "    for sutun_adi in args:\n",
    "        sutun3 = tweetler3[sutun_adi] # sütun seçmek\n",
    "        #seçilen sütun üzerinde iterasyon\n",
    "        for tweet3 in sutun3:\n",
    "            if tweet3 in dil3.keys():\n",
    "                dil3[tweet3] += 1\n",
    "            else:\n",
    "                dil3[tweet3] = 1\n",
    "    return dil3\n",
    "        "
   ]
  },
  {
   "cell_type": "code",
   "execution_count": 9,
   "metadata": {},
   "outputs": [
    {
     "data": {
      "text/plain": [
       "{'Virgin America': 504,\n",
       " 'United': 3822,\n",
       " 'Southwest': 2420,\n",
       " 'Delta': 2222,\n",
       " 'US Airways': 2913,\n",
       " 'American': 2759}"
      ]
     },
     "execution_count": 9,
     "metadata": {},
     "output_type": "execute_result"
    }
   ],
   "source": [
    "sayma3(tweetler3, 'airline')"
   ]
  },
  {
   "cell_type": "code",
   "execution_count": 10,
   "metadata": {},
   "outputs": [
    {
     "data": {
      "text/plain": [
       "{nan: 5462,\n",
       " 'Bad Flight': 580,\n",
       " \"Can't Tell\": 1190,\n",
       " 'Late Flight': 1665,\n",
       " 'Customer Service Issue': 2910,\n",
       " 'Flight Booking Problems': 529,\n",
       " 'Lost Luggage': 724,\n",
       " 'Flight Attendant Complaints': 481,\n",
       " 'Cancelled Flight': 847,\n",
       " 'Damaged Luggage': 74,\n",
       " 'longlines': 178}"
      ]
     },
     "execution_count": 10,
     "metadata": {},
     "output_type": "execute_result"
    }
   ],
   "source": [
    "sayma3(tweetler3, 'negativereason')"
   ]
  }
 ],
 "metadata": {
  "kernelspec": {
   "display_name": "Python 3",
   "language": "python",
   "name": "python3"
  },
  "language_info": {
   "codemirror_mode": {
    "name": "ipython",
    "version": 3
   },
   "file_extension": ".py",
   "mimetype": "text/x-python",
   "name": "python",
   "nbconvert_exporter": "python",
   "pygments_lexer": "ipython3",
   "version": "3.8.3"
  }
 },
 "nbformat": 4,
 "nbformat_minor": 4
}
