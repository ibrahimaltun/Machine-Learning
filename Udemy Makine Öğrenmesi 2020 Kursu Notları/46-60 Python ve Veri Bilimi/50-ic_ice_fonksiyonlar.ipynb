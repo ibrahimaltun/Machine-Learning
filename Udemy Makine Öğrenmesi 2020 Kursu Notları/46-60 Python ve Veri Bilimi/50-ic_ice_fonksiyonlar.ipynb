{
 "cells": [
  {
   "cell_type": "markdown",
   "metadata": {},
   "source": [
    "# İç İçe Fonksiyonlar"
   ]
  },
  {
   "cell_type": "code",
   "execution_count": 4,
   "metadata": {},
   "outputs": [],
   "source": [
    "def mod3(sayi1,sayi2,sayi3): #function header\n",
    "    \"\"\" Verilen sayının 3 ten kalanını hesaplar\"\"\"\n",
    "    \n",
    "    yeni_sayi1 = sayi1 % 3\n",
    "    yeni_sayi2 = sayi2 % 3\n",
    "    yeni_sayi3 = sayi3 % 3\n",
    "    \n",
    "    return (yeni_sayi1, yeni_sayi2, yeni_sayi3)"
   ]
  },
  {
   "cell_type": "code",
   "execution_count": 5,
   "metadata": {},
   "outputs": [
    {
     "data": {
      "text/plain": [
       "(2, 1, 2)"
      ]
     },
     "execution_count": 5,
     "metadata": {},
     "output_type": "execute_result"
    }
   ],
   "source": [
    "mod3(80,67,11)"
   ]
  },
  {
   "cell_type": "code",
   "execution_count": 8,
   "metadata": {},
   "outputs": [],
   "source": [
    "def mod4(s1, s2, s3): # Function Header\n",
    "    \"\"\" Verilen sayilarin 4 ten kalanı hesaplar\"\"\"#Fonksiyonun amacını belirtir\n",
    "    def icmod4(x):        \n",
    "        return x % 4\n",
    "    return (icmod4(s1),icmod4(s2),icmod4(s3))"
   ]
  },
  {
   "cell_type": "code",
   "execution_count": 11,
   "metadata": {},
   "outputs": [
    {
     "data": {
      "text/plain": [
       "(1, 0, 3)"
      ]
     },
     "execution_count": 11,
     "metadata": {},
     "output_type": "execute_result"
    }
   ],
   "source": [
    "mod4(17,44,79)"
   ]
  },
  {
   "cell_type": "code",
   "execution_count": 1,
   "metadata": {},
   "outputs": [],
   "source": [
    "#Fonksiyon Döndürme\n",
    "\n",
    "def usalma(n):\n",
    "    \"Sayının üssünü alır.\"\n",
    "    \n",
    "    def icusalma(x):\n",
    "        sayi = x ** n\n",
    "        return sayi\n",
    "    return icusalma"
   ]
  },
  {
   "cell_type": "code",
   "execution_count": 2,
   "metadata": {},
   "outputs": [],
   "source": [
    "kare = usalma(2)"
   ]
  },
  {
   "cell_type": "code",
   "execution_count": 21,
   "metadata": {},
   "outputs": [
    {
     "data": {
      "text/plain": [
       "256"
      ]
     },
     "execution_count": 21,
     "metadata": {},
     "output_type": "execute_result"
    }
   ],
   "source": [
    "kare(16)"
   ]
  },
  {
   "cell_type": "code",
   "execution_count": 4,
   "metadata": {},
   "outputs": [
    {
     "data": {
      "text/plain": [
       "81"
      ]
     },
     "execution_count": 4,
     "metadata": {},
     "output_type": "execute_result"
    }
   ],
   "source": [
    "kare1 = usalma(4)\n",
    "kare1(3)"
   ]
  },
  {
   "cell_type": "code",
   "execution_count": 28,
   "metadata": {},
   "outputs": [],
   "source": [
    "# nonlocal\n",
    "\n",
    "def dis():\n",
    "    x = 10\n",
    "    \n",
    "    def ic():\n",
    "        nonlocal x # nonlocal verilince ic ve dis fonksiyonu kapsar\n",
    "        x = 30\n",
    "        print(x)\n",
    "    ic()\n",
    "    print(x)"
   ]
  },
  {
   "cell_type": "code",
   "execution_count": 29,
   "metadata": {},
   "outputs": [
    {
     "name": "stdout",
     "output_type": "stream",
     "text": [
      "30\n",
      "30\n"
     ]
    }
   ],
   "source": [
    "dis()"
   ]
  },
  {
   "cell_type": "code",
   "execution_count": 32,
   "metadata": {},
   "outputs": [],
   "source": [
    "# Kapsam sıralaması - Scope Search\n",
    "\n",
    "# Önce Local Scope bakılır\n",
    "# sonra Fonksiyonlar : nonlocal\n",
    "# daha sonra : Global\n",
    "# en son : Built-in incelemesi yapılır."
   ]
  }
 ],
 "metadata": {
  "kernelspec": {
   "display_name": "Python 3",
   "language": "python",
   "name": "python3"
  },
  "language_info": {
   "codemirror_mode": {
    "name": "ipython",
    "version": 3
   },
   "file_extension": ".py",
   "mimetype": "text/x-python",
   "name": "python",
   "nbconvert_exporter": "python",
   "pygments_lexer": "ipython3",
   "version": "3.8.3"
  }
 },
 "nbformat": 4,
 "nbformat_minor": 4
}
