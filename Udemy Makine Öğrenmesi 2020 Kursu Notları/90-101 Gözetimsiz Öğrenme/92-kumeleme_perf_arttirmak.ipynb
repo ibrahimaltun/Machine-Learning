{
 "cells": [
  {
   "cell_type": "markdown",
   "metadata": {},
   "source": [
    "# 92. Kümeleme Performansını Arttırmak"
   ]
  },
  {
   "cell_type": "code",
   "execution_count": 7,
   "metadata": {},
   "outputs": [
    {
     "data": {
      "image/png": "[encoded data removed]",
      "text/plain": [
       "<Figure size 432x288 with 1 Axes>"
      ]
     },
     "metadata": {
      "needs_background": "light"
     },
     "output_type": "display_data"
    },
    {
     "name": "stdout",
     "output_type": "stream",
     "text": [
      "Yer   Canadian  Kama  Rosa\n",
      "Küme                      \n",
      "0            2    60    10\n",
      "1            0     1    60\n",
      "2           68     9     0\n"
     ]
    }
   ],
   "source": [
    "import numpy as np\n",
    "data = np.loadtxt('seeds_dataset.txt')\n",
    "wheat = data[:,:-1]#Verimizde son sütunu almıyoruz sadece ilk 7 sütunu alıyoruz\n",
    "location = data[:,-1]\n",
    "\n",
    "# Küme Sayısına Karar Vermek\n",
    "from sklearn.cluster import KMeans\n",
    "kume_sayisi = range(1,10)\n",
    "inertias = []\n",
    "for k in kume_sayisi:\n",
    "    model = KMeans(n_clusters = k)\n",
    "    model.fit(wheat)\n",
    "    inertias.append(model.inertia_)\n",
    "# Grafikleştirme\n",
    "import matplotlib.pyplot as plt\n",
    "plt.plot(kume_sayisi, inertias, '-o')\n",
    "plt.title('İdeal Küme Sayısı Değişimi')\n",
    "plt.xlabel('Küme Sayısı')\n",
    "plt.ylabel('Inertia Değerleri')\n",
    "plt.xticks(kume_sayisi)\n",
    "plt.show()\n",
    "\n",
    "# Çapraz Tablolar (Cross Tabs)\n",
    "import pandas as pd\n",
    "model = KMeans(n_clusters = 3)\n",
    "labels = model.fit_predict(wheat)\n",
    "df = pd.DataFrame({'Küme' : labels, 'Yer' : location})\n",
    "df['Yer'] = df['Yer'].replace({1 : 'Kama', 2 : 'Rosa', 3 : 'Canadian'})\n",
    "crosstab = pd.crosstab(df['Küme'], df['Yer'])\n",
    "print(crosstab)"
   ]
  },
  {
   "cell_type": "code",
   "execution_count": 9,
   "metadata": {},
   "outputs": [
    {
     "name": "stdout",
     "output_type": "stream",
     "text": [
      "Yer   Canadian  Kama  Rosa\n",
      "Küme                      \n",
      "0            4    62     5\n",
      "1           66     6     0\n",
      "2            0     2    65\n"
     ]
    }
   ],
   "source": [
    "# Standart Scaler ile Kümeleme Performansını Arttırmak\n",
    "\n",
    "from sklearn.pipeline import make_pipeline\n",
    "from sklearn.preprocessing import StandardScaler\n",
    "from sklearn.cluster import KMeans\n",
    "\n",
    "scaler = StandardScaler()\n",
    "kmeans = KMeans(n_clusters = 3)\n",
    "pipeline = make_pipeline(scaler, kmeans)\n",
    "\n",
    "pipeline.fit(wheat)\n",
    "labels = pipeline.predict(wheat)\n",
    "\n",
    "df = pd.DataFrame({'Küme': labels, 'Yer': location})\n",
    "df['Yer'] = df['Yer'].replace({1 : 'Kama', 2 : 'Rosa', 3 : 'Canadian'})\n",
    "\n",
    "crosstab = pd.crosstab(df['Küme'], df['Yer'])\n",
    "print(crosstab)"
   ]
  }
 ],
 "metadata": {
  "kernelspec": {
   "display_name": "Python 3",
   "language": "python",
   "name": "python3"
  },
  "language_info": {
   "codemirror_mode": {
    "name": "ipython",
    "version": 3
   },
   "file_extension": ".py",
   "mimetype": "text/x-python",
   "name": "python",
   "nbconvert_exporter": "python",
   "pygments_lexer": "ipython3",
   "version": "3.8.3"
  }
 },
 "nbformat": 4,
 "nbformat_minor": 4
}
