{
 "cells": [
  {
   "cell_type": "markdown",
   "metadata": {},
   "source": [
    "# 91. Kümeleme Analizi"
   ]
  },
  {
   "cell_type": "code",
   "execution_count": 10,
   "metadata": {},
   "outputs": [],
   "source": [
    "import numpy as np\n",
    "data = np.loadtxt('seeds_dataset.txt')\n",
    "wheat = data[:,:-1]#Verimizde son sütunu almıyoruz sadece ilk 7 sütunu alıyoruz\n",
    "location = data[:,-1]"
   ]
  },
  {
   "cell_type": "code",
   "execution_count": 12,
   "metadata": {},
   "outputs": [],
   "source": [
    "# Küme Sayısına Karar Vermek\n",
    "from sklearn.cluster import KMeans\n",
    "\n",
    "kume_sayisi = range(1,10)\n",
    "inertias = []\n",
    "\n",
    "for k in kume_sayisi:\n",
    "    \n",
    "    model = KMeans(n_clusters = k)\n",
    "    model.fit(wheat)\n",
    "    inertias.append(model.inertia_)"
   ]
  },
  {
   "cell_type": "code",
   "execution_count": 13,
   "metadata": {},
   "outputs": [
    {
     "data": {
      "text/plain": [
       "[2719.8524101779526,\n",
       " 1011.7123453151188,\n",
       " 587.3186115940429,\n",
       " 471.027145682211,\n",
       " 385.5357221342416,\n",
       " 323.8050936747491,\n",
       " 279.8775772216317,\n",
       " 240.57835433851946,\n",
       " 217.40573470782167]"
      ]
     },
     "execution_count": 13,
     "metadata": {},
     "output_type": "execute_result"
    }
   ],
   "source": [
    "inertias"
   ]
  },
  {
   "cell_type": "code",
   "execution_count": 15,
   "metadata": {},
   "outputs": [
    {
     "data": {
      "image/png": "[encoded data removed]",
      "text/plain": [
       "<Figure size 432x288 with 1 Axes>"
      ]
     },
     "metadata": {
      "needs_background": "light"
     },
     "output_type": "display_data"
    }
   ],
   "source": [
    "import matplotlib.pyplot as plt\n",
    "plt.plot(kume_sayisi, inertias, '-o')\n",
    "plt.title('İdeal Küme Sayısı Değişimi')\n",
    "plt.xlabel('Küme Sayısı')\n",
    "plt.ylabel('Inertia Değerleri')\n",
    "plt.xticks(kume_sayisi)\n",
    "plt.show()"
   ]
  },
  {
   "cell_type": "code",
   "execution_count": 30,
   "metadata": {},
   "outputs": [
    {
     "name": "stdout",
     "output_type": "stream",
     "text": [
      "Yer   Canadian  Kama  Rosa\n",
      "Küme                      \n",
      "0            2    60    10\n",
      "1            0     1    60\n",
      "2           68     9     0\n"
     ]
    }
   ],
   "source": [
    "# Çapraz Tablolar (Cross Tabs)\n",
    "# Burada n_clusters değeri yukarıdaki grafikteki, grafiğin dirsek yaptığı\n",
    "# noktadır. Yani azalmayı sert değilde normal yapılan il nokta yani 3.\n",
    "import pandas as pd\n",
    "model = KMeans(n_clusters = 3)\n",
    "labels = model.fit_predict(wheat)\n",
    "\n",
    "df = pd.DataFrame({'Küme' : labels, 'Yer' : location})\n",
    "df['Yer'] = df['Yer'].replace({1 : 'Kama', 2 : 'Rosa', 3 : 'Canadian'})\n",
    "\n",
    "crosstab = pd.crosstab(df['Küme'], df['Yer'])\n",
    "\n",
    "print(crosstab)"
   ]
  }
 ],
 "metadata": {
  "kernelspec": {
   "display_name": "Python 3",
   "language": "python",
   "name": "python3"
  },
  "language_info": {
   "codemirror_mode": {
    "name": "ipython",
    "version": 3
   },
   "file_extension": ".py",
   "mimetype": "text/x-python",
   "name": "python",
   "nbconvert_exporter": "python",
   "pygments_lexer": "ipython3",
   "version": "3.8.3"
  }
 },
 "nbformat": 4,
 "nbformat_minor": 4
}
