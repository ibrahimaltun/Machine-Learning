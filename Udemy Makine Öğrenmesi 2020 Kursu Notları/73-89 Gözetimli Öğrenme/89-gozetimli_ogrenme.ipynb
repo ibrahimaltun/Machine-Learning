{
 "cells": [
  {
   "cell_type": "markdown",
   "metadata": {},
   "source": [
    "# 89. Gözetimli Öğrenme\n",
    "\n",
    "* Gözetimli öğrenme için tüm temel bilgiler (Supervised Learning)\n",
    "* Tahmin geliştirilebilen basit modeller oluşturma (Predictive Models)\n",
    "* Sınıflandırma (Classification) ve Regresyon (Regression) kullanımı\n",
    "* Aşırı uyma (Overfitting) ve yetersiz uyma(Underfitting) \n",
    "* Çapraz Doğrulama(Cross Validation)\n",
    "* Grid araması (Grid Search)\n",
    "* Regularizasyon\n",
    "* Veri İşleme"
   ]
  }
 ],
 "metadata": {
  "kernelspec": {
   "display_name": "Python 3",
   "language": "python",
   "name": "python3"
  },
  "language_info": {
   "codemirror_mode": {
    "name": "ipython",
    "version": 3
   },
   "file_extension": ".py",
   "mimetype": "text/x-python",
   "name": "python",
   "nbconvert_exporter": "python",
   "pygments_lexer": "ipython3",
   "version": "3.8.3"
  }
 },
 "nbformat": 4,
 "nbformat_minor": 4
}
