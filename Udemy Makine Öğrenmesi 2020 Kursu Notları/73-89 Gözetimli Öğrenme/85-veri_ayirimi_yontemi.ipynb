{
 "cells": [
  {
   "cell_type": "markdown",
   "metadata": {},
   "source": [
    "# 85. Veri Ayrımı Yöntemi\n",
    "\n",
    "- Modelin yeni veriler karşısındaki performansı ne kadar iyi?\n",
    "- Tüm veri seti çapraz doğrulama için kullanılmamalıdır.\n",
    "- Veri seti daha ilk aşamada eğitim ve test verisi olarak ikiye ayrılmalıdır.\n",
    "- Grid Search ve Cross-Validation eğitim verisi üzerinde yapılmalıdır.\n",
    "- Hiper-parametre optimizasyonu gerçekleştirilmeli ve test verisi kullanılarak\n",
    "değerlendirme yapılmalıdır."
   ]
  },
  {
   "cell_type": "code",
   "execution_count": null,
   "metadata": {},
   "outputs": [],
   "source": []
  }
 ],
 "metadata": {
  "kernelspec": {
   "display_name": "Python 3",
   "language": "python",
   "name": "python3"
  },
  "language_info": {
   "codemirror_mode": {
    "name": "ipython",
    "version": 3
   },
   "file_extension": ".py",
   "mimetype": "text/x-python",
   "name": "python",
   "nbconvert_exporter": "python",
   "pygments_lexer": "ipython3",
   "version": "3.8.3"
  }
 },
 "nbformat": 4,
 "nbformat_minor": 4
}
