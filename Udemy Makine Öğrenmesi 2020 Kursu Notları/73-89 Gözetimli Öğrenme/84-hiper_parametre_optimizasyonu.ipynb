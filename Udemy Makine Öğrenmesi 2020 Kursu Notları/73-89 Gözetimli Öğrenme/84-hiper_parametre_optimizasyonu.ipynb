{
 "cells": [
  {
   "cell_type": "markdown",
   "metadata": {},
   "source": [
    "# 84. Hiper-Parametre Optimizasyonı\n",
    "\n",
    "- k-Nearest Neighbors : Komşu sayısı seçimi\n",
    "- Lineer Regresyon : Parametrelerin seçimi\n",
    "- Ridge/Lasso Regresyonu : Alpha seçimi\n",
    "    \n",
    "Modelin uydurulmasından (fit) önce atanması gereken parametreler \n",
    "hiper-parametreler olarak tanımlanır.\n",
    "\n",
    "**Hiper-Parametre Seçimi**\n",
    "\n",
    "- Modelin başarısı hiper-parametre seçimine bağlıdır.\n",
    "- Farklı değerleri uydurmak ve en verimlisini seçmek izlenecek yoldur.\n",
    "- Aşırı Uyma (Overfitting) önüne geçmek için çapraz doğrulama(cross validation) yapılmalıdır.\n",
    "\n",
    "Bu işlem Hiper-Parametre Optimizasyonu (Hyperparameter Tuning) olarak adlandırılır.\n",
    "\n",
    "**Grid Araması ve Çapraz Doğrulama(Grid Search and Cross Validation)**\n",
    "\n",
    "- Farklı parametrelerin farklı değerlerde performansı karşılaştırılır \n",
    "ve en yüksek verimin alındığı değerler belirlenir."
   ]
  },
  {
   "cell_type": "code",
   "execution_count": 4,
   "metadata": {},
   "outputs": [],
   "source": [
    "from sklearn.linear_model import LogisticRegression\n",
    "from sklearn.model_selection import train_test_split\n",
    "import pandas as pd\n",
    "import numpy as np\n",
    "data = pd.read_csv('diabetes.csv')\n",
    "X = data.drop(['Outcome'], axis = 1) # target variable hariç diğer veriler\n",
    "y = data['Outcome']  # Sadece target variable diğer veriler yok.\n",
    "X_train, X_test, y_train, y_test = train_test_split(X, y, test_size = 0.33,\n",
    "                                                  random_state = 55)"
   ]
  },
  {
   "cell_type": "code",
   "execution_count": 14,
   "metadata": {},
   "outputs": [
    {
     "name": "stdout",
     "output_type": "stream",
     "text": [
      "Lojistik Regresyon Parametresi: {'C': 0.19630406500402683}\n",
      "En iyi performans değer : 0.7995098039215687\n"
     ]
    }
   ],
   "source": [
    "from sklearn.model_selection import GridSearchCV\n",
    "import numpy as np\n",
    "#space = np.logspace(3,5,8,base = 2) # 3 ile 5 arasında 8 sayı üre ama logaritmik olarak.\n",
    "space = np.logspace(-10,10,100)\n",
    "parameters = {'C' : space}\n",
    "logreg = LogisticRegression(max_iter = 1000)\n",
    "logreg.GSCV = GridSearchCV(logreg, parameters, cv = 10)\n",
    "logreg.GSCV.fit(X_train, y_train)\n",
    "print('Lojistik Regresyon Parametresi: {}'.format(logreg.GSCV.best_params_))\n",
    "print('En iyi performans değer : {}'.format(logreg.GSCV.best_score_))"
   ]
  },
  {
   "cell_type": "code",
   "execution_count": null,
   "metadata": {},
   "outputs": [],
   "source": []
  }
 ],
 "metadata": {
  "kernelspec": {
   "display_name": "Python 3",
   "language": "python",
   "name": "python3"
  },
  "language_info": {
   "codemirror_mode": {
    "name": "ipython",
    "version": 3
   },
   "file_extension": ".py",
   "mimetype": "text/x-python",
   "name": "python",
   "nbconvert_exporter": "python",
   "pygments_lexer": "ipython3",
   "version": "3.8.3"
  }
 },
 "nbformat": 4,
 "nbformat_minor": 4
}
