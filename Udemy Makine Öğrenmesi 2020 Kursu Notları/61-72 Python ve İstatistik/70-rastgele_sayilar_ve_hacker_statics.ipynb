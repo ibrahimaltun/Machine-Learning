{
 "cells": [
  {
   "cell_type": "markdown",
   "metadata": {},
   "source": [
    "# 70. Ratgele Sayılar ve Hacker Statistics"
   ]
  },
  {
   "cell_type": "code",
   "execution_count": 8,
   "metadata": {},
   "outputs": [
    {
     "name": "stdout",
     "output_type": "stream",
     "text": [
      "[ True False  True  True False]\n"
     ]
    },
    {
     "data": {
      "text/plain": [
       "3"
      ]
     },
     "execution_count": 8,
     "metadata": {},
     "output_type": "execute_result"
    }
   ],
   "source": [
    "# Peş peşe 5 defa tura gelme ihtimali\n",
    "import numpy as np\n",
    "\n",
    "# tura < 0.5\n",
    "# yazı >= 0.5\n",
    "# True veya False\n",
    "\n",
    "np.random.seed(55) # Benzer işlemler için aynı rakam giriyoruz\n",
    "\n",
    "rastgele_sayilar = np.random.random(size = 5)\n",
    "\n",
    "tura = rastgele_sayilar < 0.5\n",
    "print(tura)\n",
    "np.sum(tura)"
   ]
  },
  {
   "cell_type": "code",
   "execution_count": 21,
   "metadata": {},
   "outputs": [
    {
     "name": "stdout",
     "output_type": "stream",
     "text": [
      "0.246\n"
     ]
    }
   ],
   "source": [
    "sonuc = 0\n",
    "\n",
    "for x in range(10000):\n",
    "    tura = np.random.random(size = 2) < 0.5\n",
    "    toplam_tura = np.sum(tura)\n",
    "    \n",
    "    if toplam_tura == 2:\n",
    "        sonuc += 1\n",
    "print(sonuc/10000)"
   ]
  }
 ],
 "metadata": {
  "kernelspec": {
   "display_name": "Python 3",
   "language": "python",
   "name": "python3"
  },
  "language_info": {
   "codemirror_mode": {
    "name": "ipython",
    "version": 3
   },
   "file_extension": ".py",
   "mimetype": "text/x-python",
   "name": "python",
   "nbconvert_exporter": "python",
   "pygments_lexer": "ipython3",
   "version": "3.8.3"
  }
 },
 "nbformat": 4,
 "nbformat_minor": 4
}
