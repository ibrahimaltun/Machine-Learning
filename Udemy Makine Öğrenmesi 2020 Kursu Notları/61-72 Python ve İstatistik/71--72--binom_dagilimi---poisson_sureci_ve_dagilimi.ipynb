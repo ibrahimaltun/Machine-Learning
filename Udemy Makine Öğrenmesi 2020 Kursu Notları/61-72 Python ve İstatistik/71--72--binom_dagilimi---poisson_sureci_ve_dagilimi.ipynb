{
 "cells": [
  {
   "cell_type": "markdown",
   "metadata": {},
   "source": [
    "# 71. Binom Dağılımı\n",
    "\n",
    "- <b> Olasılık Kütle Fonksiyonu (Probability Mass Function) | PMF  </b>"
   ]
  },
  {
   "cell_type": "code",
   "execution_count": null,
   "metadata": {},
   "outputs": [],
   "source": []
  },
  {
   "cell_type": "markdown",
   "metadata": {},
   "source": [
    "# 72. Poisson Süreci ve Dağılımı"
   ]
  },
  {
   "cell_type": "markdown",
   "metadata": {},
   "source": [
    "- Poisson Süreci : Olayın gerçekleşmesinin zamanı, bir önceki gerçekleşen olaydan tamamen bağımsızdır.\n",
    "- Poisson Dağılımı : Belirli bir zaman aralığı içerisinde dünyaya düşen meteorların düşüş zamanları (r değeri) Poisson dağılımı olarak tanımlanır."
   ]
  },
  {
   "cell_type": "code",
   "execution_count": null,
   "metadata": {},
   "outputs": [],
   "source": []
  }
 ],
 "metadata": {
  "kernelspec": {
   "display_name": "Python 3",
   "language": "python",
   "name": "python3"
  },
  "language_info": {
   "codemirror_mode": {
    "name": "ipython",
    "version": 3
   },
   "file_extension": ".py",
   "mimetype": "text/x-python",
   "name": "python",
   "nbconvert_exporter": "python",
   "pygments_lexer": "ipython3",
   "version": "3.8.3"
  }
 },
 "nbformat": 4,
 "nbformat_minor": 4
}
