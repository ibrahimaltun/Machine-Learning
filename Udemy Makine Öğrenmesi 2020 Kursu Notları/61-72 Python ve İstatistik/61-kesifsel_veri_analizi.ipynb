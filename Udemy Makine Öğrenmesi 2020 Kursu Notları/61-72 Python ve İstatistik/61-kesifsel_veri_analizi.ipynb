{
 "cells": [
  {
   "cell_type": "markdown",
   "metadata": {},
   "source": [
    "## 61. Keşifsel Veri Analizi - Exploratory Data Analysis"
   ]
  },
  {
   "cell_type": "markdown",
   "metadata": {},
   "source": [
    "1962'de, <b>The Future of Data Analysis</b> adlı makalesinde John Tukey tarafından\n",
    "ortaya konulan ve genellikle görsel yöntemlerle, temel özelliklerini özetlemek için veri setlerini analiz etmeye yönelik bir yaklaşımdır."
   ]
  },
  {
   "cell_type": "code",
   "execution_count": 1,
   "metadata": {},
   "outputs": [
    {
     "name": "stdout",
     "output_type": "stream",
     "text": [
      "    state           county  total_votes  dem_votes  rep_votes  dem_share\n",
      "0      PA      Erie County       127691      75775      50351      60.08\n",
      "1      PA  Bradford County        25787      10306      15057      40.64\n",
      "2      PA     Tioga County        17984       6390      11326      36.07\n",
      "3      PA    McKean County        15947       6465       9224      41.21\n",
      "4      PA    Potter County         7507       2300       5109      31.04\n",
      "..    ...              ...          ...        ...        ...        ...\n",
      "217    OH  Hamilton County       425086     225213     195530      53.53\n",
      "218    OH  Highland County        19186       6856      11907      36.54\n",
      "219    OH   Hocking County        12961       6259       6364      49.58\n",
      "220    OH   Licking County        82356      33932      46918      41.97\n",
      "221    OH   Madison County        17454       6532      10606      38.11\n",
      "\n",
      "[222 rows x 6 columns]\n"
     ]
    }
   ],
   "source": [
    "import pandas as pd\n",
    "swing = pd.read_csv('2008_swing_states.csv')\n",
    "print(swing)"
   ]
  },
  {
   "cell_type": "code",
   "execution_count": 2,
   "metadata": {},
   "outputs": [
    {
     "data": {
      "text/html": [
       "<div>\n",
       "<style scoped>\n",
       "    .dataframe tbody tr th:only-of-type {\n",
       "        vertical-align: middle;\n",
       "    }\n",
       "\n",
       "    .dataframe tbody tr th {\n",
       "        vertical-align: top;\n",
       "    }\n",
       "\n",
       "    .dataframe thead th {\n",
       "        text-align: right;\n",
       "    }\n",
       "</style>\n",
       "<table border=\"1\" class=\"dataframe\">\n",
       "  <thead>\n",
       "    <tr style=\"text-align: right;\">\n",
       "      <th></th>\n",
       "      <th>total_votes</th>\n",
       "      <th>dem_votes</th>\n",
       "      <th>dem_share</th>\n",
       "    </tr>\n",
       "  </thead>\n",
       "  <tbody>\n",
       "    <tr>\n",
       "      <th>0</th>\n",
       "      <td>127691</td>\n",
       "      <td>75775</td>\n",
       "      <td>60.08</td>\n",
       "    </tr>\n",
       "    <tr>\n",
       "      <th>1</th>\n",
       "      <td>25787</td>\n",
       "      <td>10306</td>\n",
       "      <td>40.64</td>\n",
       "    </tr>\n",
       "    <tr>\n",
       "      <th>2</th>\n",
       "      <td>17984</td>\n",
       "      <td>6390</td>\n",
       "      <td>36.07</td>\n",
       "    </tr>\n",
       "    <tr>\n",
       "      <th>3</th>\n",
       "      <td>15947</td>\n",
       "      <td>6465</td>\n",
       "      <td>41.21</td>\n",
       "    </tr>\n",
       "    <tr>\n",
       "      <th>4</th>\n",
       "      <td>7507</td>\n",
       "      <td>2300</td>\n",
       "      <td>31.04</td>\n",
       "    </tr>\n",
       "    <tr>\n",
       "      <th>...</th>\n",
       "      <td>...</td>\n",
       "      <td>...</td>\n",
       "      <td>...</td>\n",
       "    </tr>\n",
       "    <tr>\n",
       "      <th>217</th>\n",
       "      <td>425086</td>\n",
       "      <td>225213</td>\n",
       "      <td>53.53</td>\n",
       "    </tr>\n",
       "    <tr>\n",
       "      <th>218</th>\n",
       "      <td>19186</td>\n",
       "      <td>6856</td>\n",
       "      <td>36.54</td>\n",
       "    </tr>\n",
       "    <tr>\n",
       "      <th>219</th>\n",
       "      <td>12961</td>\n",
       "      <td>6259</td>\n",
       "      <td>49.58</td>\n",
       "    </tr>\n",
       "    <tr>\n",
       "      <th>220</th>\n",
       "      <td>82356</td>\n",
       "      <td>33932</td>\n",
       "      <td>41.97</td>\n",
       "    </tr>\n",
       "    <tr>\n",
       "      <th>221</th>\n",
       "      <td>17454</td>\n",
       "      <td>6532</td>\n",
       "      <td>38.11</td>\n",
       "    </tr>\n",
       "  </tbody>\n",
       "</table>\n",
       "<p>222 rows × 3 columns</p>\n",
       "</div>"
      ],
      "text/plain": [
       "     total_votes  dem_votes  dem_share\n",
       "0         127691      75775      60.08\n",
       "1          25787      10306      40.64\n",
       "2          17984       6390      36.07\n",
       "3          15947       6465      41.21\n",
       "4           7507       2300      31.04\n",
       "..           ...        ...        ...\n",
       "217       425086     225213      53.53\n",
       "218        19186       6856      36.54\n",
       "219        12961       6259      49.58\n",
       "220        82356      33932      41.97\n",
       "221        17454       6532      38.11\n",
       "\n",
       "[222 rows x 3 columns]"
      ]
     },
     "execution_count": 2,
     "metadata": {},
     "output_type": "execute_result"
    }
   ],
   "source": [
    "swing[['total_votes','dem_votes','dem_share']]"
   ]
  },
  {
   "cell_type": "code",
   "execution_count": 4,
   "metadata": {},
   "outputs": [
    {
     "data": {
      "image/png": "[encoded data removed]",
      "text/plain": [
       "<Figure size 432x288 with 1 Axes>"
      ]
     },
     "metadata": {
      "needs_background": "light"
     },
     "output_type": "display_data"
    }
   ],
   "source": [
    "import matplotlib.pyplot as plt\n",
    "plt.hist(swing['dem_share'])\n",
    "plt.xlabel('Demokrat Oy Oranı(Obama)')\n",
    "plt.ylabel('İlçeler')\n",
    "plt.show()"
   ]
  }
 ],
 "metadata": {
  "kernelspec": {
   "display_name": "Python 3",
   "language": "python",
   "name": "python3"
  },
  "language_info": {
   "codemirror_mode": {
    "name": "ipython",
    "version": 3
   },
   "file_extension": ".py",
   "mimetype": "text/x-python",
   "name": "python",
   "nbconvert_exporter": "python",
   "pygments_lexer": "ipython3",
   "version": "3.8.3"
  }
 },
 "nbformat": 4,
 "nbformat_minor": 4
}
