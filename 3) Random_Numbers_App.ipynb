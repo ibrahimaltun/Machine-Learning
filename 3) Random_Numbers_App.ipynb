{
 "cells": [
  {
   "cell_type": "markdown",
   "metadata": {},
   "source": [
    "## Rastgele Sayılar (Random Numbers)\n",
    "\n",
    "100 kere zar atarak verilen kurallara göre 50. seviyeye ulaşma ihtimali nedir?\n",
    "\n",
    "### Kurallar\n",
    "\n",
    "- Zar 1 veya 2 gelirse : -1\n",
    "- Zar 3,4 veya 5 gelirse : +1\n",
    "- Zar 6 gelirse: Zar tekrar atılır\n",
    "- 0'dan daha aşağıya inilemez.\n",
    "- %0.1 ihtimalle her zar atışta 0'a inme ihtimali var."
   ]
  },
  {
   "cell_type": "code",
   "execution_count": 54,
   "metadata": {},
   "outputs": [
    {
     "data": {
      "text/plain": [
       "0.7974020646840758"
      ]
     },
     "execution_count": 54,
     "metadata": {},
     "output_type": "execute_result"
    }
   ],
   "source": [
    "import numpy as np\n",
    "np.random.seed(157) #tekrar edilebilirlik\n",
    "np.random.rand() # 0 ila 1 arasında rastgele sayılar"
   ]
  },
  {
   "cell_type": "code",
   "execution_count": 59,
   "metadata": {},
   "outputs": [
    {
     "name": "stdout",
     "output_type": "stream",
     "text": [
      "1\n",
      "Yazı geldi\n"
     ]
    }
   ],
   "source": [
    "#Yazı - Tura Senaryosu\n",
    "para = np.random.randint(0,2) # her seferde 0 veya bir çıktısı verecek\n",
    "print(para)\n",
    "\n",
    "if para == 0:\n",
    "    print(\"Tura geldi\")\n",
    "else:\n",
    "    print(\"Yazı geldi\")"
   ]
  },
  {
   "cell_type": "code",
   "execution_count": 87,
   "metadata": {},
   "outputs": [
    {
     "name": "stdout",
     "output_type": "stream",
     "text": [
      "2\n",
      "29\n"
     ]
    }
   ],
   "source": [
    "# Zar atma seneryosu\n",
    "\n",
    "seviye = 30 # başlangıçtaki seviye,basamak,kat\n",
    "zar = np.random.randint(1,7) # 1-6 arası rasgele sayılar\n",
    "\n",
    "#if-elif-else komutları\n",
    "\n",
    "if zar <= 2:\n",
    "    seviye = seviye - 1\n",
    "elif zar < 6:\n",
    "    seviye = seviye + 1\n",
    "else:\n",
    "    zar = np.random.randint(1,7)\n",
    "    \n",
    "print(zar)\n",
    "print(seviye)"
   ]
  }
 ],
 "metadata": {
  "kernelspec": {
   "display_name": "Python 3",
   "language": "python",
   "name": "python3"
  },
  "language_info": {
   "codemirror_mode": {
    "name": "ipython",
    "version": 3
   },
   "file_extension": ".py",
   "mimetype": "text/x-python",
   "name": "python",
   "nbconvert_exporter": "python",
   "pygments_lexer": "ipython3",
   "version": "3.8.3"
  }
 },
 "nbformat": 4,
 "nbformat_minor": 4
}
